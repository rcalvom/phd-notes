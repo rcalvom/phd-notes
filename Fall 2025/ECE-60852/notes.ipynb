{
 "cells": [
  {
   "cell_type": "markdown",
   "id": "69da145d",
   "metadata": {},
   "source": [
    "# ECE 60852 - Holistic Software Security"
   ]
  },
  {
   "cell_type": "markdown",
   "id": "f06e4bc7",
   "metadata": {},
   "source": [
    "## Website"
   ]
  },
  {
   "cell_type": "markdown",
   "id": "15bd22c8",
   "metadata": {},
   "source": [
    "https://purs3lab.github.io/hss/"
   ]
  },
  {
   "cell_type": "markdown",
   "id": "a171b74a",
   "metadata": {},
   "source": [
    "## August 27, 2025"
   ]
  },
  {
   "cell_type": "markdown",
   "id": "bea77fc2",
   "metadata": {},
   "source": [
    "Use After Free and double free are both types of temporal Vulnerabilities\n",
    "\n",
    "Check how2heap in Github\n",
    "\n",
    "What happens if I use after free or double free?"
   ]
  },
  {
   "cell_type": "markdown",
   "id": "6c70f810",
   "metadata": {},
   "source": [
    "It is prefered to get False Negatives than not detecting bugs"
   ]
  },
  {
   "cell_type": "markdown",
   "id": "fd7cead1",
   "metadata": {},
   "source": [
    "Sound -> All bugs are included "
   ]
  },
  {
   "cell_type": "markdown",
   "id": "aea22631",
   "metadata": {
    "vscode": {
     "languageId": "plaintext"
    }
   },
   "source": [
    "## August 29, 2025"
   ]
  },
  {
   "cell_type": "markdown",
   "id": "17dd105b",
   "metadata": {},
   "source": [
    "To analyze if a variable is influenced by a user (possible attacker) we can use **Data flow analysis**."
   ]
  },
  {
   "cell_type": "markdown",
   "id": "5acadf7b",
   "metadata": {},
   "source": [
    "We can use **Control flow graphs** (CFG) to analyze if a flow is influenced by a potential attacker\n"
   ]
  },
  {
   "cell_type": "markdown",
   "id": "8e88ed9e",
   "metadata": {},
   "source": [
    "LLVM is used to create that Control flow graph (CFG)"
   ]
  },
  {
   "cell_type": "markdown",
   "id": "5e7bfc97",
   "metadata": {},
   "source": [
    "## September 03, 2025"
   ]
  },
  {
   "cell_type": "markdown",
   "id": "7294de92",
   "metadata": {},
   "source": [
    "**Very busy expression** Means that the value of the expression is used.\n"
   ]
  },
  {
   "cell_type": "markdown",
   "id": "33f658f4",
   "metadata": {},
   "source": [
    "check division in  interval analysis"
   ]
  },
  {
   "cell_type": "markdown",
   "id": "3c2b0c09",
   "metadata": {},
   "source": [
    "## September 05, 2025"
   ]
  },
  {
   "cell_type": "markdown",
   "id": "7db78095",
   "metadata": {},
   "source": [
    "### LLVM"
   ]
  },
  {
   "cell_type": "markdown",
   "id": "7b6a698a",
   "metadata": {},
   "source": [
    "Compiler framework which supports multiple frontends and backends."
   ]
  },
  {
   "cell_type": "markdown",
   "id": "994071c2",
   "metadata": {},
   "source": [
    ".c → C source code (human-written). Input to compiler front-end.\n",
    "\n",
    ".ll → LLVM IR in human-readable form. Produced by Clang with -S -emit-llvm. Input to LLVM tools (opt, llc).\n",
    "\n",
    ".s → Assembly source code (target-specific). Produced by compiler with -S. Input to assembler (as) to make object files."
   ]
  },
  {
   "cell_type": "markdown",
   "id": "e32285d1",
   "metadata": {},
   "source": [
    "```bash\n",
    "clang test.c -S -emit-llvm -o main.ll\n",
    "```"
   ]
  },
  {
   "cell_type": "markdown",
   "id": "bdf1f2dd",
   "metadata": {},
   "source": [
    "```bash\n",
    "clang test.c -c -emit-llvm -o main.bc\n",
    "```"
   ]
  },
  {
   "cell_type": "markdown",
   "id": "b068b37c",
   "metadata": {},
   "source": [
    "Compile using Cmake\n"
   ]
  },
  {
   "cell_type": "markdown",
   "id": "6fc1b41c",
   "metadata": {},
   "source": [
    "## September 10, 2025"
   ]
  },
  {
   "cell_type": "markdown",
   "id": "760b7662",
   "metadata": {},
   "source": [
    "Fuzzing"
   ]
  },
  {
   "cell_type": "markdown",
   "id": "945f1142",
   "metadata": {},
   "source": [
    "Feedback is whatever we want,\n",
    "\n",
    "We can count \"malloc\" usages as feedback, that would be a good way to find memory leaks. because it our \"malloc\" count is different to \"free\" count.... there should be a use-after-free somewhere. or a double free...."
   ]
  },
  {
   "cell_type": "markdown",
   "id": "906a87cb",
   "metadata": {},
   "source": [
    "## September 15, 2025"
   ]
  },
  {
   "cell_type": "markdown",
   "id": "2ee6f370",
   "metadata": {},
   "source": [
    "Fuzzing is not just for security, it can also be used for optimization"
   ]
  },
  {
   "cell_type": "markdown",
   "id": "2f85b927",
   "metadata": {},
   "source": [
    "Prof, used it for binary optimization"
   ]
  },
  {
   "cell_type": "markdown",
   "id": "2c05df91",
   "metadata": {},
   "source": [
    "overhead = tiempo inecesario"
   ]
  },
  {
   "cell_type": "markdown",
   "id": "591aebc4",
   "metadata": {},
   "source": [
    "Global address vs heap address"
   ]
  },
  {
   "cell_type": "markdown",
   "id": "9786ef12",
   "metadata": {},
   "source": [
    "## October 01, 2025"
   ]
  },
  {
   "cell_type": "markdown",
   "id": "a5753339",
   "metadata": {},
   "source": [
    "Low Fat Pointers. What do they mean?"
   ]
  }
 ],
 "metadata": {
  "language_info": {
   "name": "python"
  }
 },
 "nbformat": 4,
 "nbformat_minor": 5
}
