{
 "cells": [
  {
   "cell_type": "markdown",
   "id": "de57b467",
   "metadata": {},
   "source": [
    "# Class \\# 2"
   ]
  },
  {
   "cell_type": "markdown",
   "id": "c2fdbea9",
   "metadata": {},
   "source": [
    "## Turing machines"
   ]
  },
  {
   "cell_type": "markdown",
   "id": "4fe6d729",
   "metadata": {},
   "source": [
    "* All multi tape machines can be simulated using a single tape"
   ]
  },
  {
   "cell_type": "markdown",
   "id": "90d7d9ae",
   "metadata": {},
   "source": [
    "## Imperative programs"
   ]
  },
  {
   "cell_type": "markdown",
   "id": "8c4533a4",
   "metadata": {},
   "source": [
    "A imperative language is a programming language that uses statements to change a program's state. It focuses on describing how a program operates, using control structures like loops and conditionals to dictate the flow of execution."
   ]
  },
  {
   "cell_type": "markdown",
   "id": "1fe9771c",
   "metadata": {},
   "source": [
    "$\\sigma$ is the dictionary to map variable names to their values in the current state of the program."
   ]
  },
  {
   "cell_type": "markdown",
   "id": "757145a7",
   "metadata": {},
   "source": [
    "In the slides there are some horizontal rules that separate premises and conclusions."
   ]
  },
  {
   "cell_type": "markdown",
   "id": "5287533e",
   "metadata": {},
   "source": []
  }
 ],
 "metadata": {
  "language_info": {
   "name": "python"
  }
 },
 "nbformat": 4,
 "nbformat_minor": 5
}
