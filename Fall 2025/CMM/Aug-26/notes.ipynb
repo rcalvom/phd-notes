{
 "cells": [
  {
   "cell_type": "markdown",
   "id": "bb15faa5",
   "metadata": {},
   "source": [
    "# Class \\# 1"
   ]
  },
  {
   "cell_type": "markdown",
   "id": "c416f00b",
   "metadata": {},
   "source": [
    "## Algorithms\n",
    "\n",
    "Steps to solve a problem\n",
    "\n",
    "* Algorithm is the abstraction\n",
    "* Program is the implementation of the algorithm\n",
    "* Computation is the theoretical model of the algorithm"
   ]
  },
  {
   "cell_type": "markdown",
   "id": "94266283",
   "metadata": {},
   "source": [
    "Automatas and Turing Machines are ways to describe algorithms."
   ]
  },
  {
   "cell_type": "markdown",
   "id": "1f7a4e0a",
   "metadata": {},
   "source": [
    "Math logic is a way to describe algorithms using formal mathematical notation.\n"
   ]
  },
  {
   "cell_type": "markdown",
   "id": "fd5a4e91",
   "metadata": {},
   "source": [
    "The way humans do compute is simulated by Turing machines."
   ]
  },
  {
   "cell_type": "markdown",
   "id": "1637a2b6",
   "metadata": {},
   "source": [
    "**In Turing machines:**\n",
    "\n",
    "$ x \\rightarrow y, \\lbrace R, L \\rbrace$\n",
    "\n",
    "$x$ is the read symbol\n",
    "\n",
    "$y$ is the symbol to write\n",
    "\n",
    "$\\lbrace R, L \\rbrace$ is the direction to move the tape head"
   ]
  },
  {
   "cell_type": "markdown",
   "id": "9ac5da84",
   "metadata": {},
   "source": [
    "___"
   ]
  },
  {
   "cell_type": "markdown",
   "id": "e8cf3b83",
   "metadata": {},
   "source": [
    "**In Turing machines:**\n",
    "\n",
    "$ x \\rightarrow \\lbrace R, L \\rbrace$\n",
    "\n",
    "$x$ is the read symbol\n",
    "\n",
    "$\\lbrace R, L \\rbrace$ is the direction to move the tape head"
   ]
  },
  {
   "cell_type": "markdown",
   "id": "536c791f",
   "metadata": {},
   "source": [
    "## Example of $2^x$ Machine"
   ]
  },
  {
   "cell_type": "markdown",
   "id": "50b97c17",
   "metadata": {},
   "source": [
    "00000\n",
    "\n",
    "_0000\n",
    "\n",
    "_0X0X\n",
    "\n",
    "Reject, odd number"
   ]
  },
  {
   "cell_type": "markdown",
   "id": "45b00bef",
   "metadata": {},
   "source": [
    "000000\n",
    "\n",
    "_00000\n",
    "\n",
    "_0_0_0\n",
    "\n",
    "___0_X\n",
    "Reject, odd number"
   ]
  },
  {
   "cell_type": "markdown",
   "id": "9517ed2d",
   "metadata": {},
   "source": [
    "00000000\n",
    "\n",
    "_0X0X0X0\n",
    "\n",
    "_0_0_0_0\n",
    "\n",
    "___0_X_0\n",
    "\n",
    "___0___0\n",
    "\n",
    "_______0\n",
    "\n",
    "\n",
    "Power of 2, accept"
   ]
  },
  {
   "cell_type": "markdown",
   "id": "69022eb5",
   "metadata": {
    "vscode": {
     "languageId": "plaintext"
    }
   },
   "source": [
    "## For unary $\\rightarrow$ binary conversion"
   ]
  },
  {
   "cell_type": "markdown",
   "id": "ebfa5c51",
   "metadata": {},
   "source": [
    "Let $n = 5$"
   ]
  },
  {
   "cell_type": "markdown",
   "id": "6a503693",
   "metadata": {},
   "source": [
    "000000\n",
    "\n",
    "000000|\n",
    "_00000|1\n",
    "__0000|01\n",
    "___000|11\n",
    "____00|001\n",
    "_____0|101\n",
    "______|011\n",
    "1_____|01_\n",
    "11____|0__\n",
    "110___|___\n",
    "110"
   ]
  },
  {
   "cell_type": "markdown",
   "id": "1de0af63",
   "metadata": {
    "vscode": {
     "languageId": "plaintext"
    }
   },
   "source": [
    "keep adding 1 by 1, but the number is going to be reflected, at the end, reflect\n",
    "\n",
    "there won't be space problem beacuse number of characters of unary > number of characters of binary\n"
   ]
  },
  {
   "cell_type": "code",
   "execution_count": null,
   "id": "7324b962",
   "metadata": {
    "vscode": {
     "languageId": "plaintext"
    }
   },
   "outputs": [],
   "source": []
  }
 ],
 "metadata": {
  "language_info": {
   "name": "python"
  }
 },
 "nbformat": 4,
 "nbformat_minor": 5
}
