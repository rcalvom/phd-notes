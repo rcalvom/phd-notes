{
 "cells": [
  {
   "cell_type": "markdown",
   "id": "2d5d6399",
   "metadata": {
    "vscode": {
     "languageId": "plaintext"
    }
   },
   "source": [
    "# Class \\# 4 "
   ]
  },
  {
   "cell_type": "markdown",
   "id": "2e9a3643",
   "metadata": {},
   "source": [
    "$O$ is lower or equal than\n",
    "\n",
    "$\\Omega$ is greater or equal than\n",
    "\n",
    "$\\Theta$ is tight bound\n",
    "\n",
    "$o$ is lower than\n",
    "\n",
    "$\\omega$ is greater than\n",
    "\n",
    "$\\theta$ is tight bound\n"
   ]
  },
  {
   "cell_type": "markdown",
   "id": "5b4b5c7e",
   "metadata": {},
   "source": []
  }
 ],
 "metadata": {
  "language_info": {
   "name": "python"
  }
 },
 "nbformat": 4,
 "nbformat_minor": 5
}
