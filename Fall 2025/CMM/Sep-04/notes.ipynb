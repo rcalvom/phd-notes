{
 "cells": [
  {
   "cell_type": "markdown",
   "id": "da4ef2a6",
   "metadata": {},
   "source": [
    "# Class \\# 4"
   ]
  },
  {
   "cell_type": "markdown",
   "id": "583626ab",
   "metadata": {},
   "source": [
    "In equations $\\Theta(n)$ can be replaced by a $f(n)$ which satisfies that $f(n) \\in \\Theta(n)$. Same analysis applies for $O(n)$ and $\\Omega(n)$."
   ]
  },
  {
   "cell_type": "markdown",
   "id": "5e821a21",
   "metadata": {},
   "source": []
  }
 ],
 "metadata": {
  "language_info": {
   "name": "python"
  }
 },
 "nbformat": 4,
 "nbformat_minor": 5
}
