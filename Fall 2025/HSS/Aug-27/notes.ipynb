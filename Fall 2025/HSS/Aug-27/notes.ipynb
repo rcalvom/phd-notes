{
 "cells": [
  {
   "cell_type": "markdown",
   "id": "5d262912",
   "metadata": {},
   "source": [
    "# Class \\#2 "
   ]
  },
  {
   "cell_type": "markdown",
   "id": "41a5a7de",
   "metadata": {},
   "source": [
    "Use After Free and double free are both types of temporal Vulnerabilities\n",
    "\n",
    "Check how2heap in Github\n",
    "\n",
    "What happens if I use after free or double free?"
   ]
  },
  {
   "cell_type": "markdown",
   "id": "42d1ba16",
   "metadata": {},
   "source": [
    "It is prefered to get False Negatives than not detecting bugs"
   ]
  },
  {
   "cell_type": "markdown",
   "id": "ad83a5de",
   "metadata": {},
   "source": [
    "Sound -> All bugs are included "
   ]
  },
  {
   "cell_type": "markdown",
   "id": "38fe3091",
   "metadata": {},
   "source": []
  }
 ],
 "metadata": {
  "language_info": {
   "name": "python"
  }
 },
 "nbformat": 4,
 "nbformat_minor": 5
}
