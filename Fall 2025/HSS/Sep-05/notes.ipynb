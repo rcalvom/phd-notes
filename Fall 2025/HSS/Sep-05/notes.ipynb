{
 "cells": [
  {
   "cell_type": "markdown",
   "id": "5324be8e",
   "metadata": {},
   "source": [
    "# Class \\# 5"
   ]
  },
  {
   "cell_type": "markdown",
   "id": "7cb71414",
   "metadata": {},
   "source": [
    "## LLVM"
   ]
  },
  {
   "cell_type": "markdown",
   "id": "e2e56650",
   "metadata": {},
   "source": [
    "Compiler framework which supports multiple frontends and backends."
   ]
  },
  {
   "cell_type": "markdown",
   "id": "6d70cf2b",
   "metadata": {},
   "source": [
    ".c → C source code (human-written). Input to compiler front-end.\n",
    "\n",
    ".ll → LLVM IR in human-readable form. Produced by Clang with -S -emit-llvm. Input to LLVM tools (opt, llc).\n",
    "\n",
    ".s → Assembly source code (target-specific). Produced by compiler with -S. Input to assembler (as) to make object files."
   ]
  },
  {
   "cell_type": "markdown",
   "id": "b3274c3c",
   "metadata": {},
   "source": [
    "```bash\n",
    "clang test.c -S -emit-llvm -o main.ll\n",
    "```"
   ]
  },
  {
   "cell_type": "markdown",
   "id": "25c4699a",
   "metadata": {},
   "source": [
    "```bash\n",
    "clang test.c -c -emit-llvm -o main.bc\n",
    "```"
   ]
  },
  {
   "cell_type": "markdown",
   "id": "795ba58a",
   "metadata": {},
   "source": []
  }
 ],
 "metadata": {
  "language_info": {
   "name": "python"
  }
 },
 "nbformat": 4,
 "nbformat_minor": 5
}
