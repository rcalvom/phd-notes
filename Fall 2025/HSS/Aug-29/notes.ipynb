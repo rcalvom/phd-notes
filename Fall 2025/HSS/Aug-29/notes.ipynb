{
 "cells": [
  {
   "cell_type": "markdown",
   "id": "da229ab7",
   "metadata": {},
   "source": [
    "# Class \\# 3"
   ]
  },
  {
   "cell_type": "markdown",
   "id": "816d907f",
   "metadata": {},
   "source": [
    "To analyze if a variable is influenced by a user (possible attacker) we can use **Data flow analysis**."
   ]
  },
  {
   "cell_type": "markdown",
   "id": "146dddec",
   "metadata": {},
   "source": [
    "We can use **Control flow graphs** (CFG) to analyze if a flow is influenced by a potential attacker\n"
   ]
  },
  {
   "cell_type": "markdown",
   "id": "50633cd1",
   "metadata": {},
   "source": [
    "LLVM is used to create that Control flow graph (CFG)"
   ]
  },
  {
   "cell_type": "markdown",
   "id": "85f5bfdb",
   "metadata": {},
   "source": []
  }
 ],
 "metadata": {
  "language_info": {
   "name": "python"
  }
 },
 "nbformat": 4,
 "nbformat_minor": 5
}
