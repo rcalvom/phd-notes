{
 "cells": [
  {
   "cell_type": "markdown",
   "id": "cbc265f8",
   "metadata": {},
   "source": [
    "# Assignment 0\n",
    "## Ricardo Andres Calvo Mendez"
   ]
  },
  {
   "cell_type": "markdown",
   "id": "423a959e",
   "metadata": {},
   "source": [
    "## Problem 1"
   ]
  },
  {
   "cell_type": "markdown",
   "id": "4e7132fa",
   "metadata": {},
   "source": [
    "### Exercise A"
   ]
  },
  {
   "cell_type": "markdown",
   "id": "927f7e36",
   "metadata": {},
   "source": [
    "```\n",
    "int main(int argc, char **argv) {\n",
    "    char buf[10];\n",
    "    strcpy(buf, argv[0]);\n",
    "    ....\n",
    "}\n",
    "```"
   ]
  },
  {
   "cell_type": "markdown",
   "id": "a074cdaa",
   "metadata": {},
   "source": [
    "**Analysis** \n",
    "\n",
    "Here, the program copies the command-line argument (`argv[0]` is always the program name) into the buffer `buf` without checking its size.\n",
    "\n",
    "**Failing scenario**: \n",
    "\n",
    "When `strlen(argv[0])` $> 10$, the buffer overflow occurs."
   ]
  },
  {
   "cell_type": "markdown",
   "id": "963f7d9e",
   "metadata": {},
   "source": [
    "### Exercise B"
   ]
  },
  {
   "cell_type": "markdown",
   "id": "a75aa63b",
   "metadata": {
    "vscode": {
     "languageId": "raw"
    }
   },
   "source": [
    "```\n",
    "size_t s;\n",
    "char *p;\n",
    "scanf(\"%lu\", &s);\n",
    "p = (char*)malloc(s + 4);\n",
    "if (p) {\n",
    "    strcpy(p, \"HDR\");\n",
    "    fgets(p + 3, s, stdin);\n",
    "} else {\n",
    "    printf(\"Out of memory!\\n\");\n",
    "    return -1;\n",
    "}\n",
    "```"
   ]
  },
  {
   "cell_type": "markdown",
   "id": "23ba2d47",
   "metadata": {},
   "source": [
    "**Analysis** \n",
    "\n",
    "Here, the function `malloc()` is used to allocate memory of size `s + 4`, where `s` is provided by user input. The program does not validate if `s + 4` overflows the maximum value representable by `size_t`. If an overflow occurs, `malloc()` would allocate less memory than intended, leading to a buffer overflow when `fgets()` is called.\n",
    "\n",
    "**Failing scenario**: \n",
    "\n",
    "When the user provides as input a value between $2^{64} - 4$ and $2^{64} - 1$ (assuming `size_t` is 64 bits)"
   ]
  },
  {
   "cell_type": "markdown",
   "id": "5bb28242",
   "metadata": {},
   "source": [
    "### Excercise C"
   ]
  },
  {
   "cell_type": "markdown",
   "id": "47527364",
   "metadata": {
    "vscode": {
     "languageId": "raw"
    }
   },
   "source": [
    "```\n",
    "static void webize(char *str, char *dfstr, int dfsize) {\n",
    "    char *cp1;\n",
    "    char *cp2;\n",
    "    for (cp1 = str, cp2 = dfstr; *cp1 != '\\0' && cp2 - dfstr < dfsize - 1; ++cp1, ++cp2) {\n",
    "        switch (*cp1) {\n",
    "        case '<':\n",
    "            *cp2++ = '&';\n",
    "            *cp2++ = 'l';\n",
    "            *cp2++ = 't';\n",
    "            *cp2 = ';';\n",
    "            break;\n",
    "        case '>':\n",
    "            *cp2++ = '&';\n",
    "            *cp2++ = 'g';\n",
    "            *cp2++ = 't';\n",
    "            *cp2 = ';';\n",
    "            break;\n",
    "        default:\n",
    "            *cp2 = *cp1;\n",
    "            break;\n",
    "        }\n",
    "    }\n",
    "    *cp2 = '\\0';\n",
    "}\n",
    "```"
   ]
  },
  {
   "cell_type": "markdown",
   "id": "88e4d2fb",
   "metadata": {},
   "source": [
    "**Analysis** \n",
    "\n",
    "Here, the function `webize()` copies characters from the input string `str` to the output buffer `dfstr`, replacing `<` and `>` with their HTML entity equivalents. However, the function does not properly account for the increased length of the output string when these replacements occur. Each `<` or `>` character is replaced by a 4-character sequence (`&lt;` or `&gt;`), which can lead to a buffer overflow if there are enough such characters in the input string.\n",
    "\n",
    "**Failing scenario**: \n",
    "\n",
    "Let $a := \\texttt{number of '<' and '>' characters in } str$.\n",
    "\n",
    "When `strlen(str)` $+ 3a \\geq  $ `dfsize`, the buffer overflow occurs."
   ]
  },
  {
   "cell_type": "markdown",
   "id": "4c29dec1",
   "metadata": {},
   "source": [
    "### Excercise D"
   ]
  },
  {
   "cell_type": "markdown",
   "id": "3d1a7ab1",
   "metadata": {
    "vscode": {
     "languageId": "raw"
    }
   },
   "source": [
    "```\n",
    "int *p;\n",
    "int q[20];\n",
    "unsigned s;\n",
    "... \n",
    "memset(q, 0, sizeof(q));\n",
    "... \n",
    "p = malloc(s);\n",
    "if (p != NULL){\n",
    "    memset(p, 'A', sizeof(p));\n",
    "} else {\n",
    "    return -1;\n",
    "}\n",
    "```"
   ]
  },
  {
   "cell_type": "markdown",
   "id": "09e9825d",
   "metadata": {},
   "source": [
    "**Analysis** \n",
    "\n",
    "Here, The problem  is in the second `memset()` call. the return value of `sizeof(p)` is not the size of the allocated memory, it is the size of the pointer itself (constant 8 bytes).\n",
    "\n",
    "**Failing scenario**: \n",
    "\n",
    "When `s` $\\leq 8$, the buffer overflow occurs."
   ]
  },
  {
   "cell_type": "markdown",
   "id": "ff8cbd39",
   "metadata": {},
   "source": [
    "### Exercise E"
   ]
  },
  {
   "cell_type": "markdown",
   "id": "f72a976e",
   "metadata": {
    "vscode": {
     "languageId": "raw"
    }
   },
   "source": [
    "```\n",
    "char format[20];\n",
    "// Read format to display the log string.\n",
    "scanf(\"%19s\", format);\n",
    "...\n",
    "// Print the log_str in required format.\n",
    "printf(format, log_str);\n",
    "...\n",
    "```"
   ]
  },
  {
   "cell_type": "markdown",
   "id": "b9c5cf85",
   "metadata": {},
   "source": [
    "**Analysis** \n",
    "\n",
    "Here, The problem is the `format` input string, the user can introduce a format string to print out a given amount of bytes, probably exceeding the allocated buffer size for `log_str`.\n",
    "\n",
    "**Failing scenario**: \n",
    "\n",
    "When `format` is intended to print more bytes than `log_str` can hold."
   ]
  },
  {
   "cell_type": "markdown",
   "id": "ff4bfc89",
   "metadata": {},
   "source": [
    "### Exercise F"
   ]
  },
  {
   "cell_type": "markdown",
   "id": "72ce6110",
   "metadata": {
    "vscode": {
     "languageId": "raw"
    }
   },
   "source": [
    "```\n",
    "class base {\n",
    "    public:\n",
    "        base() {\n",
    "        }\n",
    "        ~base() {\n",
    "        }\n",
    "}\n",
    "\n",
    "class sub : public base {\n",
    "    public:\n",
    "        sub() {\n",
    "        }\n",
    "        ~sub() {\n",
    "        }\n",
    "} \n",
    "\n",
    "int main() {\n",
    "    base *b = new sub();\n",
    "    ....\n",
    "    delete b;\n",
    "}\n",
    "```"
   ]
  },
  {
   "cell_type": "markdown",
   "id": "af375176",
   "metadata": {},
   "source": [
    "**Analysis** \n",
    "\n",
    "Here, There is a parent class `base` and a child class `sub`. The issue arises when a pointer of type `base` is used to delete an object of type `sub`, which can lead to resource leaks because the destructor of the child class is not called.\n",
    "\n",
    "\n",
    "To fix the problem either `b` should be of type `sub` or the base class destructor should be made virtual.\n"
   ]
  },
  {
   "cell_type": "markdown",
   "id": "0dbf3fbf",
   "metadata": {},
   "source": [
    "### Exercise G"
   ]
  },
  {
   "cell_type": "markdown",
   "id": "ae5c30be",
   "metadata": {
    "vscode": {
     "languageId": "raw"
    }
   },
   "source": [
    "```\n",
    "char fl;\n",
    "....\n",
    "int ret = sscanf(buf, %s, &fl);\n",
    "if (ret != 1) {\n",
    "    printf(\"Read Error\\n\");\n",
    "    return -1;\n",
    "}\n",
    "```"
   ]
  },
  {
   "cell_type": "markdown",
   "id": "b6ff0c0a",
   "metadata": {},
   "source": [
    "**Analysis** \n",
    "\n",
    "Here, the problem is that the size of `fl` is not being checked before using it in `sscanf`. This can lead to buffer overflows if the input exceeds the allocated size.\n",
    "\n",
    "**Failing scenario**: \n",
    "\n",
    "When `fl` points to a buffer smaller than the input being read.\n"
   ]
  },
  {
   "cell_type": "markdown",
   "id": "2e9f4dfa",
   "metadata": {},
   "source": [
    "## Problem 2"
   ]
  },
  {
   "cell_type": "markdown",
   "id": "21f5834c",
   "metadata": {},
   "source": [
    "A. If we avoid storing return address on runtime stack then stack-based buffer overflows do not cause any security issues (especially, control-flow hijacking)"
   ]
  },
  {
   "cell_type": "markdown",
   "id": "93aca07c",
   "metadata": {},
   "source": [
    "**Answer** \n",
    "\n",
    "No, In general that no prevent ANY security issues, It prevents only control-flow hijacking attacks because that addresses cannot be used to redirect execution flow."
   ]
  },
  {
   "cell_type": "markdown",
   "id": "89198546",
   "metadata": {},
   "source": [
    "B. We can always prove that a given program does not have any security vulnerabilities."
   ]
  },
  {
   "cell_type": "markdown",
   "id": "a08448c6",
   "metadata": {},
   "source": [
    "**Answer**\n",
    "\n",
    "As demonstrated in class, the answer to this question is the same as the halting problem: it is undecidable in general.\n"
   ]
  },
  {
   "cell_type": "markdown",
   "id": "b7b31cb2",
   "metadata": {},
   "source": [
    "C. Exhaustive testing proves that the a given program does not have any bugs."
   ]
  },
  {
   "cell_type": "markdown",
   "id": "c854c524",
   "metadata": {},
   "source": [
    "**Answer** \n",
    "\n",
    "No, In general that falls in the halting problem again, you can prove most of the inputs but not all of them."
   ]
  },
  {
   "cell_type": "markdown",
   "id": "eae47179",
   "metadata": {},
   "source": [
    "## Problem 3"
   ]
  },
  {
   "cell_type": "markdown",
   "id": "b7b51424",
   "metadata": {},
   "source": [
    "**A. A process can know physical addresses of its virtual addresses. Justify your answer in either case.**"
   ]
  },
  {
   "cell_type": "markdown",
   "id": "d786d1a0",
   "metadata": {},
   "source": [
    "**Answer** \n",
    "\n",
    "No, the virtual address is converted to physical address by Operating system. The program does not have knowledge of physical addresses. Only kernel-like processes can access physical addresses directly."
   ]
  },
  {
   "cell_type": "markdown",
   "id": "ce14d91f",
   "metadata": {
    "vscode": {
     "languageId": "raw"
    }
   },
   "source": [
    "**B. A process can read and write memory that belong to the operating system kernel. Justify your answer in either case.**"
   ]
  },
  {
   "cell_type": "markdown",
   "id": "62ef91d2",
   "metadata": {
    "vscode": {
     "languageId": "raw"
    }
   },
   "source": [
    "**Answer** \n",
    "\n",
    "No, the operating system prevents processes from accessing memory that does not belong to them. The typical error that occurs when a process tries to access memory outside its allocated space is a segmentation fault, which results in the termination of the process."
   ]
  },
  {
   "cell_type": "markdown",
   "id": "d3f1ce62",
   "metadata": {},
   "source": [
    "**C. Operating system should always sanitize (i.e., verify) addresses given by a user process. Why? E.g., Destination address provided for read/write syscall.**"
   ]
  },
  {
   "cell_type": "markdown",
   "id": "b58d5678",
   "metadata": {
    "vscode": {
     "languageId": "raw"
    }
   },
   "source": [
    "**Answer** \n",
    "\n",
    "Yes, the operating system should always ensure that user programs operate within their allocated memory space and do not interfere with each other's memory.\n"
   ]
  },
  {
   "cell_type": "markdown",
   "id": "d8d010d0",
   "metadata": {},
   "source": [
    "**D. Is there any security issue in the following code? Justify your answer in either case.**"
   ]
  },
  {
   "cell_type": "markdown",
   "id": "31815c77",
   "metadata": {
    "vscode": {
     "languageId": "raw"
    }
   },
   "source": [
    "```\n",
    "unsigned gl;\n",
    "char flag_buf[4];\n",
    "...\n",
    "unsigned i;\n",
    "if (!copy_from_user(&i, buf, sizeof(i))) {\n",
    "    if (i<4) {\n",
    "        if (!copy_from_user(&gl, buf, sizeof(gl))) {\n",
    "            flag_buf[gl] = 0;\n",
    "        }\n",
    "    }\n",
    "}\n",
    "...\n",
    "```"
   ]
  },
  {
   "cell_type": "markdown",
   "id": "86f519dd",
   "metadata": {
    "vscode": {
     "languageId": "raw"
    }
   },
   "source": [
    "**Answer** \n",
    "\n",
    "Yes, a buffer overflow can occur when it is accessing using `gl` as index `flag_buf[gl] = 0`.\n",
    "`gl` is a value read from the user (I assume `copy_from_user()` is used to read this value from a human). the value of `gl` is not being validated"
   ]
  }
 ],
 "metadata": {
  "kernelspec": {
   "display_name": ".venv",
   "language": "python",
   "name": "python3"
  },
  "language_info": {
   "codemirror_mode": {
    "name": "ipython",
    "version": 3
   },
   "file_extension": ".py",
   "mimetype": "text/x-python",
   "name": "python",
   "nbconvert_exporter": "python",
   "pygments_lexer": "ipython3",
   "version": "3.10.14"
  }
 },
 "nbformat": 4,
 "nbformat_minor": 5
}
