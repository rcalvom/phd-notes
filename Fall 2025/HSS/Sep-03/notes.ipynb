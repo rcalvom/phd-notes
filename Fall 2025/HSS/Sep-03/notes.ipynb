{
 "cells": [
  {
   "cell_type": "markdown",
   "id": "e83c7a12",
   "metadata": {},
   "source": [
    "# Class \\# 4"
   ]
  },
  {
   "cell_type": "markdown",
   "id": "765f8eca",
   "metadata": {},
   "source": [
    "**Very busy expression** Means that the value of the expression is used.\n"
   ]
  },
  {
   "cell_type": "markdown",
   "id": "dfd0a9d8",
   "metadata": {},
   "source": [
    "check division in  interval analysis"
   ]
  },
  {
   "cell_type": "markdown",
   "id": "60baeea9",
   "metadata": {},
   "source": []
  }
 ],
 "metadata": {
  "language_info": {
   "name": "python"
  }
 },
 "nbformat": 4,
 "nbformat_minor": 5
}
