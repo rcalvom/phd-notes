{
 "cells": [
  {
   "cell_type": "markdown",
   "id": "855f62ad",
   "metadata": {},
   "source": [
    "# ECE 60800 - Computational Models and Methods"
   ]
  },
  {
   "cell_type": "markdown",
   "id": "583c99ea",
   "metadata": {},
   "source": [
    "## Textbook"
   ]
  },
  {
   "cell_type": "code",
   "execution_count": null,
   "id": "5efd649d",
   "metadata": {
    "vscode": {
     "languageId": "plaintext"
    }
   },
   "outputs": [],
   "source": [
    "https://ebookcentral.proquest.com/lib/purdue/detail.action?pq-origsite=primo&docID=6925615"
   ]
  },
  {
   "cell_type": "markdown",
   "id": "2375f4d5",
   "metadata": {},
   "source": [
    "Cormen, T. H., Leiserson, C. E., Rivest, R. L., & Stein, C. (2022). Introduction to algorithms, fourth edition. MIT Press."
   ]
  },
  {
   "cell_type": "markdown",
   "id": "8c7ef971",
   "metadata": {},
   "source": [
    "## August 26, 2025"
   ]
  },
  {
   "cell_type": "markdown",
   "id": "dc6e9469",
   "metadata": {},
   "source": [
    "### Algorithms\n",
    "\n",
    "Steps to solve a problem\n",
    "\n",
    "* Algorithm is the abstraction\n",
    "* Program is the implementation of the algorithm\n",
    "* Computation is the theoretical model of the algorithm"
   ]
  },
  {
   "cell_type": "markdown",
   "id": "3c2c5335",
   "metadata": {},
   "source": [
    "Automatas and Turing Machines are ways to describe algorithms."
   ]
  },
  {
   "cell_type": "markdown",
   "id": "ba3c34e8",
   "metadata": {},
   "source": [
    "Math logic is a way to describe algorithms using formal mathematical notation.\n"
   ]
  },
  {
   "cell_type": "markdown",
   "id": "923566e5",
   "metadata": {},
   "source": [
    "The way humans do compute is simulated by Turing machines."
   ]
  },
  {
   "cell_type": "markdown",
   "id": "08002b48",
   "metadata": {},
   "source": [
    "**In Turing machines:**\n",
    "\n",
    "$ x \\rightarrow y, \\lbrace R, L \\rbrace$\n",
    "\n",
    "$x$ is the read symbol\n",
    "\n",
    "$y$ is the symbol to write\n",
    "\n",
    "$\\lbrace R, L \\rbrace$ is the direction to move the tape head"
   ]
  },
  {
   "cell_type": "markdown",
   "id": "61c04431",
   "metadata": {},
   "source": [
    "___"
   ]
  },
  {
   "cell_type": "markdown",
   "id": "e225778d",
   "metadata": {},
   "source": [
    "**In Turing machines:**\n",
    "\n",
    "$ x \\rightarrow \\lbrace R, L \\rbrace$\n",
    "\n",
    "$x$ is the read symbol\n",
    "\n",
    "$\\lbrace R, L \\rbrace$ is the direction to move the tape head"
   ]
  },
  {
   "cell_type": "markdown",
   "id": "03e3ddd8",
   "metadata": {},
   "source": [
    "### Example of $2^x$ Machine"
   ]
  },
  {
   "cell_type": "markdown",
   "id": "5056027b",
   "metadata": {},
   "source": [
    "00000\n",
    "\n",
    "_0000\n",
    "\n",
    "_0X0X\n",
    "\n",
    "Reject, odd number"
   ]
  },
  {
   "cell_type": "markdown",
   "id": "e35f571a",
   "metadata": {},
   "source": [
    "000000\n",
    "\n",
    "_00000\n",
    "\n",
    "_0_0_0\n",
    "\n",
    "___0_X\n",
    "Reject, odd number"
   ]
  },
  {
   "cell_type": "markdown",
   "id": "8cc1734c",
   "metadata": {},
   "source": [
    "00000000\n",
    "\n",
    "_0X0X0X0\n",
    "\n",
    "_0_0_0_0\n",
    "\n",
    "___0_X_0\n",
    "\n",
    "___0___0\n",
    "\n",
    "_______0\n",
    "\n",
    "\n",
    "Power of 2, accept"
   ]
  },
  {
   "cell_type": "markdown",
   "id": "6431939a",
   "metadata": {},
   "source": [
    "### For unary $\\rightarrow$ binary conversion"
   ]
  },
  {
   "cell_type": "markdown",
   "id": "99ae1e7f",
   "metadata": {},
   "source": [
    "Let $n = 5$"
   ]
  },
  {
   "cell_type": "markdown",
   "id": "d1408d60",
   "metadata": {},
   "source": [
    "000000\n",
    "\n",
    "000000|\n",
    "_00000|1\n",
    "__0000|01\n",
    "___000|11\n",
    "____00|001\n",
    "_____0|101\n",
    "______|011\n",
    "1_____|01_\n",
    "11____|0__\n",
    "110___|___\n",
    "110"
   ]
  },
  {
   "cell_type": "markdown",
   "id": "e613b6ef",
   "metadata": {},
   "source": [
    "keep adding 1 by 1, but the number is going to be reflected, at the end, reflect\n",
    "\n",
    "there won't be space problem beacuse number of characters of unary > number of characters of binary\n"
   ]
  },
  {
   "cell_type": "markdown",
   "id": "73df2aab",
   "metadata": {
    "vscode": {
     "languageId": "plaintext"
    }
   },
   "source": [
    "## August 28, 2025"
   ]
  },
  {
   "cell_type": "markdown",
   "id": "8f2cd435",
   "metadata": {},
   "source": [
    "### Turing machines"
   ]
  },
  {
   "cell_type": "markdown",
   "id": "b8a7c5a5",
   "metadata": {},
   "source": [
    "* All multi tape machines can be simulated using a single tape"
   ]
  },
  {
   "cell_type": "markdown",
   "id": "13743ed0",
   "metadata": {},
   "source": [
    "### Imperative programs"
   ]
  },
  {
   "cell_type": "markdown",
   "id": "abece53e",
   "metadata": {},
   "source": [
    "A imperative language is a programming language that uses statements to change a program's state. It focuses on describing how a program operates, using control structures like loops and conditionals to dictate the flow of execution."
   ]
  },
  {
   "cell_type": "markdown",
   "id": "47e48084",
   "metadata": {},
   "source": [
    "$\\sigma$ is the dictionary to map variable names to their values in the current state of the program."
   ]
  },
  {
   "cell_type": "markdown",
   "id": "87b45e9f",
   "metadata": {},
   "source": [
    "In the slides there are some horizontal rules that separate premises and conclusions."
   ]
  },
  {
   "cell_type": "markdown",
   "id": "2c4a1a1b",
   "metadata": {},
   "source": [
    "## September 02, 2025"
   ]
  },
  {
   "cell_type": "markdown",
   "id": "d08437d6",
   "metadata": {},
   "source": [
    "$O$ is lower or equal than\n",
    "\n",
    "$\\Omega$ is greater or equal than\n",
    "\n",
    "$\\Theta$ is tight bound\n",
    "\n",
    "$o$ is lower than\n",
    "\n",
    "$\\omega$ is greater than\n",
    "\n",
    "$\\theta$ is tight bound\n"
   ]
  },
  {
   "cell_type": "markdown",
   "id": "eb5241e2",
   "metadata": {},
   "source": [
    "## September 04, 2025"
   ]
  },
  {
   "cell_type": "markdown",
   "id": "6e108f51",
   "metadata": {},
   "source": [
    "In equations $\\Theta(n)$ can be replaced by a $f(n)$ which satisfies that $f(n) \\in \\Theta(n)$. Same analysis applies for $O(n)$ and $\\Omega(n)$."
   ]
  },
  {
   "cell_type": "markdown",
   "id": "8b7f90b6",
   "metadata": {},
   "source": [
    "## September 09, 2025"
   ]
  },
  {
   "cell_type": "markdown",
   "id": "b30f7d10",
   "metadata": {},
   "source": [
    "The recurrences should be always proved by induction"
   ]
  },
  {
   "cell_type": "markdown",
   "id": "7d4aa256",
   "metadata": {},
   "source": [
    "## September 11, 2025"
   ]
  },
  {
   "cell_type": "markdown",
   "id": "76de02c4",
   "metadata": {},
   "source": [
    "Remember that exponential ecuations of same base, you just need to compare the exponents"
   ]
  },
  {
   "cell_type": "markdown",
   "id": "430c35cd",
   "metadata": {},
   "source": [
    "## September 16, 2025"
   ]
  },
  {
   "cell_type": "markdown",
   "id": "182369db",
   "metadata": {},
   "source": [
    "1. Max heap the array in order to get the maximum of the array easily\n",
    "2. Extract the max value and put it at the end of the array\n",
    "3. Move the las node to the root and check heap rule again\n",
    "4. do that until sorted"
   ]
  },
  {
   "cell_type": "markdown",
   "id": "c6f44abe",
   "metadata": {},
   "source": [
    "## September 23, 2025"
   ]
  },
  {
   "cell_type": "markdown",
   "id": "b9025955",
   "metadata": {},
   "source": [
    "It is demostrated that all posible comparison algorithms are $\\Omega(n\\log(n))$"
   ]
  },
  {
   "cell_type": "markdown",
   "id": "66f13463",
   "metadata": {},
   "source": [
    "Non-comparison algorithms are $\\Omega(n)$ but require memory"
   ]
  },
  {
   "cell_type": "markdown",
   "id": "fd594a07",
   "metadata": {},
   "source": []
  }
 ],
 "metadata": {
  "language_info": {
   "name": "python"
  }
 },
 "nbformat": 4,
 "nbformat_minor": 5
}
